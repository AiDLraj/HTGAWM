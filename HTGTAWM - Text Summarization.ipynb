{
 "cells": [
  {
   "cell_type": "markdown",
   "metadata": {},
   "source": [
    "<h1 ><center> HTGAWM</center></h1>"
   ]
  },
  {
   "cell_type": "markdown",
   "metadata": {},
   "source": [
    "![SegmentLocal](./img/1.gif \"segment\")"
   ]
  },
  {
   "cell_type": "code",
   "execution_count": 121,
   "metadata": {},
   "outputs": [
    {
     "data": {
      "image/jpeg": "[encoded data removed]",
      "text/html": [
       "\n",
       "        <iframe\n",
       "            width=\"800\"\n",
       "            height=\"500\"\n",
       "            src=\"https://www.youtube.com/embed/ddAWaNBVP6U\"\n",
       "            frameborder=\"0\"\n",
       "            allowfullscreen\n",
       "        ></iframe>\n",
       "        "
      ],
      "text/plain": [
       "<IPython.lib.display.YouTubeVideo at 0x1e41b293288>"
      ]
     },
     "execution_count": 121,
     "metadata": {},
     "output_type": "execute_result"
    }
   ],
   "source": [
    "from IPython.display import YouTubeVideo\n",
    "\n",
    "YouTubeVideo('ddAWaNBVP6U', width=800, height=500)"
   ]
  },
  {
   "cell_type": "code",
   "execution_count": null,
   "metadata": {},
   "outputs": [],
   "source": []
  },
  {
   "cell_type": "code",
   "execution_count": null,
   "metadata": {},
   "outputs": [],
   "source": []
  },
  {
   "cell_type": "code",
   "execution_count": null,
   "metadata": {},
   "outputs": [],
   "source": []
  },
  {
   "cell_type": "code",
   "execution_count": null,
   "metadata": {},
   "outputs": [],
   "source": []
  },
  {
   "cell_type": "code",
   "execution_count": null,
   "metadata": {},
   "outputs": [],
   "source": []
  },
  {
   "cell_type": "markdown",
   "metadata": {},
   "source": [
    "<h1 style=\\\"color:Tomato;\\\"><center>Text Summarization</center></h1>"
   ]
  },
  {
   "cell_type": "code",
   "execution_count": 4,
   "metadata": {},
   "outputs": [],
   "source": [
    "from sumy.parsers.plaintext import PlaintextParser\n",
    "from sumy.summarizers.lsa import LsaSummarizer\n",
    "from sumy.nlp.tokenizers import Tokenizer\n",
    "from sumy.nlp.stemmers import Stemmer\n",
    "from sumy.utils import get_stop_words"
   ]
  },
  {
   "cell_type": "code",
   "execution_count": null,
   "metadata": {},
   "outputs": [],
   "source": []
  },
  {
   "cell_type": "code",
   "execution_count": null,
   "metadata": {},
   "outputs": [],
   "source": []
  },
  {
   "cell_type": "markdown",
   "metadata": {},
   "source": [
    "<h1 style=\"color:Tomato;\"><center>Trayvon Martin</center></h1>"
   ]
  },
  {
   "cell_type": "markdown",
   "metadata": {},
   "source": [
    "<img src=\"./img/trayvon-martin.png\">"
   ]
  },
  {
   "cell_type": "code",
   "execution_count": 27,
   "metadata": {
    "scrolled": false
   },
   "outputs": [
    {
     "name": "stdout",
     "output_type": "stream",
     "text": [
      "['results_defediscoveryissues.txt', 'results_zimexhibitidentifica.txt', 'results_Zimjuryinstructions.txt', 'results_Zimjuryquestionaire.txt', 'results_zimjuryverdict.txt', 'results_Zimmerman Document C.txt', 'results_Zimmerman Document D.txt', 'results_Zimmerman Document F.txt', 'results_Zimmerman Police Int.txt', 'results_zimmotionselfserving.txt', 'results_zimopeningdayminutes.txt', 'results_zimprobablecausedoc.txt']\n"
     ]
    }
   ],
   "source": [
    "import os             \n",
    "folder = \"./Data/Trayvon Martin/text/\"\n",
    "txt_files = os.listdir(folder)\n",
    "print(txt_files)"
   ]
  },
  {
   "cell_type": "code",
   "execution_count": 44,
   "metadata": {},
   "outputs": [],
   "source": [
    "import pandas as pd\n",
    "corpus = []\n",
    "\n",
    "with open(folder+txt_files[0],encoding='utf8') as f_input:\n",
    "    corpus.append(f_input.read())\n",
    "\n",
    "#print(corpus)"
   ]
  },
  {
   "cell_type": "code",
   "execution_count": 47,
   "metadata": {},
   "outputs": [],
   "source": [
    "lang = 'english'\n",
    "count = 10\n",
    "new_string = corpus[0].replace('.', '. ').strip()\n",
    "lsa = LsaSummarizer(Stemmer(lang))\n",
    "lsa.stop_words = get_stop_words(lang)\n",
    "parser = PlaintextParser.from_string(new_string, Tokenizer(lang))\n",
    "lsa_summary = lsa(parser.document, count)\n",
    "lsa_s = [str(sent) for sent in lsa_summary]\n",
    "summary = ' '.join(lsa_s)"
   ]
  },
  {
   "cell_type": "markdown",
   "metadata": {},
   "source": [
    "<h1 style=\"color:Tomato;\"><center>Summary of Discovery Issues and Depos for August 23 email</center></h1>"
   ]
  },
  {
   "cell_type": "markdown",
   "metadata": {},
   "source": [
    "![SegmentLocal](./img/9.gif \"segment\")"
   ]
  },
  {
   "cell_type": "code",
   "execution_count": 48,
   "metadata": {},
   "outputs": [
    {
     "name": "stdout",
     "output_type": "stream",
     "text": [
      "-The CD you gave us at the evidence viewing containing Wit 9’s two interviews on March 20, 2012 would not play on any of our machines. -As we have discussed, we want to have a complete set of unedited witness interviews. | can see no reason why we wouldn't be provided with the complete recordings of all the witnesses and | thought you had already agreed to that. Obviously, your office has them since, as | understand it, your staff made the initial edits. -We would like to have an inventory of the discovery provided to Judge Lester for his in camera review and how it got to him if you didn’t deliver it to him personally. -Also, we still don’t have color images of the cell phone pictures taken of the back of Zimmerman’s head, the flashlight found nearby and of Trayvon Martin laying facedown the night of the shooting. took these pictures according to discovery reports and provided them to law enforcement. -As well, we don’t have the color image of Zimmerman’s face that Ofc. We need that in order to move forward with the depos of the FDLE personnel. -We don’t have the SIM card information from Trayvon Martin’s phone that was downloaded by FDLE analyst Steve Brenton that he talked about at the evidence viewing, nor have | seen any report prepared by him. | can’t remember where that stands, | don’t think you gave us any of them at the evidence review. We need another copy and | apologize if you gave them to us at the evidence review and I’ve misplaced them. | want you to provide us with their actual addresses so we can conduct our own investigation. | am not opposed to maintaining their privacy with the public and am not asking you to file a discovery response with their addresses. You can file a sealed pleading or just give them to us and we will keep the information confidential if you want. | wasn’t clear from our conversation at the evidence viewing whether or not the Facebook accounts and Twitter accounts of Trayvon Martin and RB have been requested by the state and are pending. Also, please advise if you have Trayvon Martin's school records, if so, we would like a copy of them. We got the total station diagram and photos, but don’t have the location data captured by the software. Lastly, with regard to Trayvon Martin’s phone, there is a reference in the reports that Tracy Martin was asked to provide the password to his son’s phone so law enforcement could gain access to its contents and Mr.  Martin indicated to law enforcement that he wanted to speak with his attorney first. | can’t find a reference in the reports or in your interview with Mr.  Martin that that the issue was addressed.\n"
     ]
    }
   ],
   "source": [
    "print(summary)"
   ]
  },
  {
   "cell_type": "code",
   "execution_count": null,
   "metadata": {},
   "outputs": [],
   "source": []
  },
  {
   "cell_type": "code",
   "execution_count": null,
   "metadata": {},
   "outputs": [],
   "source": []
  },
  {
   "cell_type": "code",
   "execution_count": 53,
   "metadata": {},
   "outputs": [],
   "source": [
    "import pandas as pd\n",
    "corpus = []\n",
    "\n",
    "with open(folder+txt_files[2],encoding='utf8') as f_input:\n",
    "    corpus.append(f_input.read())\n",
    "#print(corpus)"
   ]
  },
  {
   "cell_type": "code",
   "execution_count": 54,
   "metadata": {},
   "outputs": [],
   "source": [
    "lang = 'english'\n",
    "count = 20\n",
    "new_string = corpus[0].replace('.', '. ').strip()\n",
    "lsa = LsaSummarizer(Stemmer(lang))\n",
    "lsa.stop_words = get_stop_words(lang)\n",
    "parser = PlaintextParser.from_string(new_string, Tokenizer(lang))\n",
    "lsa_summary = lsa(parser.document, count)\n",
    "lsa_s = [str(sent) for sent in lsa_summary]\n",
    "summary = ' '.join(lsa_s)"
   ]
  },
  {
   "cell_type": "markdown",
   "metadata": {},
   "source": [
    "<h1 style=\"color:Tomato;\"><center>Summary of Jury Instructions</center></h1>"
   ]
  },
  {
   "cell_type": "markdown",
   "metadata": {},
   "source": [
    "![SegmentLocal](./img/8.gif \"segment\")"
   ]
  },
  {
   "cell_type": "code",
   "execution_count": 57,
   "metadata": {},
   "outputs": [
    {
     "name": "stdout",
     "output_type": "stream",
     "text": [
      "Instructions read to jury by The Honorable Debra S.  Nelson, Circuit Judge. by lawful means with usual ordinary caution and without any unlawful intent, or An “act” includes a series of related actions arising from and performed pursuant to a single design or purpose. 1.  a person of ordinary judgment would know is reasonably certain to kill or do serious bodily injury to another, and If you find that George Zimmerman committed Second Degree Murder and you also find beyond a reasonable doubt that during the commission of the crime, he discharged a firearm, and in doing so, caused great bodily harm to, or the death of, Trayvon Martin, you should find George Zimmerman guilty of Second Degree Murder with discharge of a firearm causing great The killing of a human being is justifiable and lawful if necessarily done while resisting an attempt to murder or commit a felony upon George Zimmerman, or to commit a felony in any dwelling house in which George Zimmerman was at the time of the attempted lawful means with usual ordinary caution and without any unlawful intent, or If you find George Zimmerman committed Manslaughter, and you also find beyond a reasonable doubt that during the commission of the Manslaughter, George Zimmerman carried, displayed, used, threatened to use, or attempted to use a firearm, you should check It is a defense to the crime of Second Degree Murder, and the lesser included offense of Manslaughter, if the death of Trayvon Martin resulted from the justifiable use of deadly force. If George Zimmerman was not engaged in an unlawful activity and was attacked in any place where he had a right to be, he had no duty to retreat and had the right to stand his ground and meet force with force, including deadly force if he reasonably believed that it was necessary to do so to prevent death or great bodily harm to himself or another or to prevent the commission of a forcible felony. In considering the issue of self-defense, you may take into account the relative physical abilities and capacities of George Zimmerman and Trayvon Martin. If in your consideration of the issue of self-defense you have a reasonable doubt on the question of whether George Zimmerman was justified in the use of deadly force, you should However, if from the evidence you are convinced beyond a reasonable doubt that George Zimmerman was not justified in the use of deadly force, you should find him guilty if all the elements of the charge have been proved. The presumption stays with George Zimmerman as to each material allegation in the Information through each stage of the trial unless it has been Such a doubt must not influence you to return a verdict of not guilty if you have an abiding conviction of guilt. On the other hand if, after carefully considering, comparing and weighing all the evidence, there is not an abiding conviction of guilt, or, if having a conviction, it is one which is not stable but one which wavers and vacillates, then the charge is not proved beyond every reasonable doubt and you must find George Zimmerman not guilty because the doubt is reasonable. Your duty is to determine if George Zimmerman has been proven guilty or not, in accord with the law. You should not compare your notes with those of other jurors in determining the content of any testimony or in evaluating the importance of any evidence. If you return a verdict of guilty, it should be for the highest offense which has been proven beyond a reasonable doubt. Until you have reached a verdict, you must not talk about this case in person or through the telephone, writing, or electronic communication, such as a blog, twitter, e-mail, text message, or any other means.\n"
     ]
    }
   ],
   "source": [
    "print(summary)"
   ]
  },
  {
   "cell_type": "code",
   "execution_count": null,
   "metadata": {},
   "outputs": [],
   "source": []
  },
  {
   "cell_type": "code",
   "execution_count": null,
   "metadata": {},
   "outputs": [],
   "source": []
  },
  {
   "cell_type": "code",
   "execution_count": 59,
   "metadata": {},
   "outputs": [],
   "source": [
    "import pandas as pd\n",
    "corpus = []\n",
    "\n",
    "with open(folder+txt_files[3],encoding='utf8') as f_input:\n",
    "    corpus.append(f_input.read())\n",
    "#print(corpus)"
   ]
  },
  {
   "cell_type": "code",
   "execution_count": 60,
   "metadata": {},
   "outputs": [],
   "source": [
    "lang = 'english'\n",
    "count = 20\n",
    "new_string = corpus[0].replace('.', '. ').strip()\n",
    "lsa = LsaSummarizer(Stemmer(lang))\n",
    "lsa.stop_words = get_stop_words(lang)\n",
    "parser = PlaintextParser.from_string(new_string, Tokenizer(lang))\n",
    "lsa_summary = lsa(parser.document, count)\n",
    "lsa_s = [str(sent) for sent in lsa_summary]\n",
    "summary = ' '.join(lsa_s)"
   ]
  },
  {
   "cell_type": "markdown",
   "metadata": {},
   "source": [
    "<h1 style=\"color:Tomato;\"><center>Summary of Jury Questionaire</center></h1>"
   ]
  },
  {
   "cell_type": "markdown",
   "metadata": {},
   "source": [
    "![SegmentLocal](./img/5.gif \"segment\")"
   ]
  },
  {
   "cell_type": "code",
   "execution_count": 61,
   "metadata": {},
   "outputs": [
    {
     "name": "stdout",
     "output_type": "stream",
     "text": [
      "The questionnaire is designed to help the court and the lawyers to select a jury in this case. By the use of the questionnaire, the process of jury selection will be shortened. | The questions are not being asked to invade your privacy, but to help select a fair and impartial jury. reason why you might not be a completely fair and impartial juror, it is your legal duty and obligation to tell us so in the questionnaire. All of the information in the questionnaire will be kept confidential and will not be distributed to anyone except the attorneys in the case and the judge. redact from the completed questionnaire, your name, and any other information that will tend to reveal your identity. Since the questionnaire is part of the jury selection process, the questions must be answered by you under penalty of perjury. You are instructed not to seek out, read or conduct any research about the Defendant, George Zimmerman, the deceased, Travyon Martin, or this case. Specifically you must not do any research using any internet search engine, message boards, chat rooms, blogs, and social Do not read any articles in the newspaper or online and do not listen to any news reports on the radio or on television. lf any juror does such research, this would be jury misconduct, all of our time and effort will be wasted and it will be necessary to start this process all over. Order from the Court, the juror will be subjected to Contempt of Court charges, punishable by a fine and/or jail time. Please return the completed Juror Questionnaire to the Jury Clerk. EE: nrnenesnereneresnennneernnennrnenets, MURR BCD, QUESTION ONE: Have you ever heard of George Zimmerman? anything you have read or heard about this case an the evidence and law presented during the trial? Please check one: YES NO QUESTION FIVE: It is expected that this trial will last four to six weeks and that the ae hardship for you that you would not be able to give this trial your full ntion’ be brought to the attention of the Court, because it would affect your ability to be a fair and impartial juror? | declare, under penalty of perjury, that the foregoing answers on this Jury Questionnaire are true and correct to the best of my knowledge and belief.\n"
     ]
    }
   ],
   "source": [
    "print(summary)"
   ]
  },
  {
   "cell_type": "code",
   "execution_count": null,
   "metadata": {},
   "outputs": [],
   "source": []
  },
  {
   "cell_type": "code",
   "execution_count": null,
   "metadata": {},
   "outputs": [],
   "source": []
  },
  {
   "cell_type": "code",
   "execution_count": null,
   "metadata": {},
   "outputs": [],
   "source": []
  },
  {
   "cell_type": "code",
   "execution_count": 63,
   "metadata": {},
   "outputs": [],
   "source": [
    "import pandas as pd\n",
    "corpus = []\n",
    "\n",
    "with open(folder+txt_files[4],encoding='utf8') as f_input:\n",
    "    corpus.append(f_input.read())\n",
    "#print(corpus)"
   ]
  },
  {
   "cell_type": "code",
   "execution_count": null,
   "metadata": {},
   "outputs": [],
   "source": [
    "lang = 'english'\n",
    "count = 6\n",
    "new_string = corpus[0].replace('.', '. ').strip()\n",
    "lsa = LsaSummarizer(Stemmer(lang))\n",
    "lsa.stop_words = get_stop_words(lang)\n",
    "parser = PlaintextParser.from_string(new_string, Tokenizer(lang))\n",
    "lsa_summary = lsa(parser.document, count)\n",
    "lsa_s = [str(sent) for sent in lsa_summary]\n",
    "summary = ' '.join(lsa_s)"
   ]
  },
  {
   "cell_type": "markdown",
   "metadata": {},
   "source": [
    "<h1 style=\"color:Tomato;\"><center>Summary of Jury Verdict</center></h1>"
   ]
  },
  {
   "cell_type": "markdown",
   "metadata": {},
   "source": [
    "![SegmentLocal](./img/4.gif \"segment\")"
   ]
  },
  {
   "cell_type": "code",
   "execution_count": 71,
   "metadata": {},
   "outputs": [
    {
     "name": "stdout",
     "output_type": "stream",
     "text": [
      "_ i CLERK SEMINOLE cOLNTY | The above-named defendant appeared with his/her counsel to stand ttial. the matter proceeded as a non-jury trial and the taking of testimony was commenced and concluded and after hearing argument of counsel the Court found the Defendant The taking of testimony was commenced and concluded and after the State rested its case, the Court, being of the opinion that the evidence was insufficient to warrant a conviction, granted the Defendant’s motion and entered a Judgment of Not Guilty; commenced and concluded and after hearing argument of counsel and instructions as to the law, the jury retired, deliberated, returned and rendered a unanimous verdict finding the Defendant Not Guilty. DONE AND ORDERED in open court in Sanford, Seminole County, Florida, this 13TH day of iit fy) 3 ¢ fe) 2 z he o 2 Sony oo ww ie a ie Ri a = Qo co ao co i cea 2 & &\n"
     ]
    }
   ],
   "source": [
    "print(summary)"
   ]
  },
  {
   "cell_type": "code",
   "execution_count": null,
   "metadata": {},
   "outputs": [],
   "source": []
  },
  {
   "cell_type": "code",
   "execution_count": 76,
   "metadata": {},
   "outputs": [
    {
     "name": "stdout",
     "output_type": "stream",
     "text": [
      "results_Zimmerman Document C.txt\n"
     ]
    }
   ],
   "source": [
    "import pandas as pd\n",
    "corpus = []\n",
    "\n",
    "with open(folder+txt_files[5],encoding='utf8') as f_input:\n",
    "    corpus.append(f_input.read())\n",
    "#print(corpus)\n",
    "print(txt_files[5])"
   ]
  },
  {
   "cell_type": "code",
   "execution_count": 77,
   "metadata": {},
   "outputs": [
    {
     "name": "stderr",
     "output_type": "stream",
     "text": [
      "c:\\users\\acham\\appdata\\local\\programs\\python\\python37\\lib\\site-packages\\sumy\\summarizers\\lsa.py:76: UserWarning: Number of words (428) is lower than number of sentences (482). LSA algorithm may not work properly.\n",
      "  warn(message % (words_count, sentences_count))\n"
     ]
    }
   ],
   "source": [
    "lang = 'english'\n",
    "count = 20\n",
    "new_string = corpus[0].replace('.', '. ').strip()\n",
    "lsa = LsaSummarizer(Stemmer(lang))\n",
    "lsa.stop_words = get_stop_words(lang)\n",
    "parser = PlaintextParser.from_string(new_string, Tokenizer(lang))\n",
    "lsa_summary = lsa(parser.document, count)\n",
    "lsa_s = [str(sent) for sent in lsa_summary]\n",
    "summary = ' '.join(lsa_s)"
   ]
  },
  {
   "cell_type": "markdown",
   "metadata": {},
   "source": [
    "<h1 style=\"color:Tomato;\"><center>Summary of Zimmerman Document C</h1>"
   ]
  },
  {
   "cell_type": "markdown",
   "metadata": {},
   "source": [
    "![SegmentLocal](./img/2.gif \"segment\")"
   ]
  },
  {
   "cell_type": "code",
   "execution_count": 80,
   "metadata": {},
   "outputs": [
    {
     "name": "stdout",
     "output_type": "stream",
     "text": [
      "The inquiry is being conducted by agents of the Florida Department of Law Enforcement as well as investigators with the Office of the State Attorney. I’m gonna hand you a copy titled Narrative Report, Sanford Police Department and dated February 26, 2012. If you would please look that over and indicate if that is your handwriting, your signature and a statement that you provided to the Sanford Police Department. I believe it was the same weekend as the Daytona 500 and while we were watching TV, we kinda heard some loud noise outside, so we figured maybe it was just, you know, either kids in the neighborhood or people, you know, just havin’ a good time outside, and then we heard it again, so we muted the TV, but didn’t hear anything for a second. Um, and then we heard it like it was coming towards us, gettin’ a little louder, so I kept the TV on mute and went to go look outside, through the sliding glass door, through the blinds, and there’s only a porch light, so I couldn’t truly see what was out in the grass area and my fiancée, I, I’m pretty sure advised me not to open the door, but I had, I had to check, just to see what was going on. I’ve never heard a gunshot before, but now, knowing that was the gunshot that I heard, um, and from that point, as she was still making it up the stairs, I ran upstairs while I was on the phone with the uh, 9-1-1 person that answered my call, and I ran over to the window to look down, and when I looked down, I saw the person that was actually on top at that point, was laying in my grass, kind of in a sprawled position, not moving. Um, and then I saw the, ated pad with his hands in the air, as it looked, I don’t believe it was cops at that point. I think it was just ‘cause so many people had already dialed in, and the operator also told me that, you know, there was five other callers, calling in for the same thing that happened. pola Bectelor: OK.  And the person on top, as indicated in your statement today, dark colo Speaker 2: Not really ‘cause it, I mean it was just so dark, and if you see the back sidewalk at nighttime, if someone’s out there, you really have to look out there for the most part to even tell if it’s, you know, if it was, say you’re wearing a hat or a hoodie of some sort. John Bachelor: When you looked at this individual, and you wasn’t sure if he was making eye contact, did you, did you see, describe what you saw. Speaker 2: OK.  “Opened the door and saw a guy on the ground getting hit by another man on top of him in a straddling position. It’s, you know, I can’t see that close to where they were actually at, but he was still on top with both hands, uh, either tryin’ to hold the guy down or hitting him at that point. Please indicate your house, maybe _ something else that would be a landmark and then would you please, uh, show the first position that you described in your statement today and label it No. Um, and I run upstairs as fast as I can to see what happened from above instead of going right back to my door ‘cause I have no idea if there’s, you know, a gunfight or anything goin’ on in the backyard. John Bachelor: You mentioned earlier that the person on top when you went out to view was in a sprawled position not moving. Other Speaker: — the person on the bottom would’ve been some degree facing you, uh, I mean flat — It wasn’t an echo-y el, uh, help, bouncing off, you know, another house from the guy facing away from me. 044 Custom Pitenssa; wit_6 fdle_320_3 Dater 05/16/2032 Billed Word Count: 7373 - Speaker 1: Weare back on the record. Present is Jim Post, State Attorney's Office, 18\" Judicial Circuit, myself, John Bachelor, Special Agent with the Florida Department of Law Enforcement.\n"
     ]
    }
   ],
   "source": [
    "print(summary)"
   ]
  },
  {
   "cell_type": "code",
   "execution_count": null,
   "metadata": {},
   "outputs": [],
   "source": []
  },
  {
   "cell_type": "code",
   "execution_count": null,
   "metadata": {},
   "outputs": [],
   "source": []
  },
  {
   "cell_type": "code",
   "execution_count": 95,
   "metadata": {},
   "outputs": [
    {
     "name": "stdout",
     "output_type": "stream",
     "text": [
      "results_Zimmerman Document D.txt\n"
     ]
    }
   ],
   "source": [
    "import pandas as pd\n",
    "corpus = []\n",
    "\n",
    "with open(folder+txt_files[6],encoding='utf8') as f_input:\n",
    "    corpus.append(f_input.read())\n",
    "#print(corpus)\n",
    "print(txt_files[6])"
   ]
  },
  {
   "cell_type": "code",
   "execution_count": 98,
   "metadata": {},
   "outputs": [],
   "source": [
    "lang = 'english'\n",
    "count = 12\n",
    "new_string = corpus[0].replace('.', '. ').strip()\n",
    "lsa = LsaSummarizer(Stemmer(lang))\n",
    "lsa.stop_words = get_stop_words(lang)\n",
    "parser = PlaintextParser.from_string(new_string, Tokenizer(lang))\n",
    "lsa_summary = lsa(parser.document, count)\n",
    "lsa_s = [str(sent) for sent in lsa_summary]\n",
    "summary = ' '.join(lsa_s)"
   ]
  },
  {
   "cell_type": "markdown",
   "metadata": {},
   "source": [
    "<h1 style=\"color:Tomato;\"><center>Summary of Zimmerman Document D</h1>"
   ]
  },
  {
   "cell_type": "markdown",
   "metadata": {},
   "source": [
    "![SegmentLocal](./img/3.gif \"segment\")"
   ]
  },
  {
   "cell_type": "code",
   "execution_count": 99,
   "metadata": {},
   "outputs": [
    {
     "name": "stdout",
     "output_type": "stream",
     "text": [
      "Investigator Serino: This is Investigator Serino from the Stanford Police Department, today’s date is Monday, February the 27\", 2012, it’s now 12:05 a. m. , I’m located at the Stanford Police Station, 815 West 13\" Street, ****, **** County Florida, the person I’m in the room with George Zimmerman, correct? Investigator Serino: _I got a gist of it all, I’m gonna ask a quick question. That’s gonna be important for you to understand, I'll show you different pictures later on. Um, real briefly, I’m gonna give you what I got, okay. Political Science, Um, SCC, the UCF. George Zimmerman: And I realized, um, my, my shirt came up and I felt him slide his hand George Zimmerman: And he said you’re gonna die mother fucker. 051 George Zimmerman: And so I, I don’t remember if I pushed him or he fell, but somehow I got out from under him — If you, you’re gonna have anxiety over this and nightmares and everything else, so you’re probably gonna have a hard time with this **** |’m here for that, um, that’s why I can give you between now and tomorrow, I can get you other kinds of help afterwards, okay, but you got to go home and get some rest. He reached for your gun, you discharged, you got off of him, you know, you shot once, the police arrived and you surrendered and here you are. : George Zimmerman: He told me he was gonna kill me. I’m gonna go ahead and conclude this thing, it’s now 12:10.\n"
     ]
    }
   ],
   "source": [
    "print(summary)"
   ]
  },
  {
   "cell_type": "code",
   "execution_count": null,
   "metadata": {},
   "outputs": [],
   "source": []
  },
  {
   "cell_type": "code",
   "execution_count": null,
   "metadata": {},
   "outputs": [],
   "source": []
  },
  {
   "cell_type": "code",
   "execution_count": 85,
   "metadata": {},
   "outputs": [
    {
     "name": "stdout",
     "output_type": "stream",
     "text": [
      "results_Zimmerman Document F.txt\n"
     ]
    }
   ],
   "source": [
    "import pandas as pd\n",
    "corpus = []\n",
    "\n",
    "with open(folder+txt_files[7],encoding='utf8') as f_input:\n",
    "    corpus.append(f_input.read())\n",
    "#print(corpus)\n",
    "print(txt_files[7]) "
   ]
  },
  {
   "cell_type": "code",
   "execution_count": 86,
   "metadata": {},
   "outputs": [],
   "source": [
    "lang = 'english'\n",
    "count = 20\n",
    "new_string = corpus[0].replace('.', '. ').strip()\n",
    "lsa = LsaSummarizer(Stemmer(lang))\n",
    "lsa.stop_words = get_stop_words(lang)\n",
    "parser = PlaintextParser.from_string(new_string, Tokenizer(lang))\n",
    "lsa_summary = lsa(parser.document, count)\n",
    "lsa_s = [str(sent) for sent in lsa_summary]\n",
    "summary = ' '.join(lsa_s)"
   ]
  },
  {
   "cell_type": "markdown",
   "metadata": {},
   "source": [
    "<h1 style=\"color:Tomato;\"><center>Summary of Zimmerman Document F</h1>"
   ]
  },
  {
   "cell_type": "markdown",
   "metadata": {},
   "source": [
    "![SegmentLocal](./img/7.gif \"segment\")"
   ]
  },
  {
   "cell_type": "code",
   "execution_count": 87,
   "metadata": {},
   "outputs": [
    {
     "name": "stdout",
     "output_type": "stream",
     "text": [
      "Special Agent Supervisor David Lee: Today's date is March 24, 2012. Speaking is Special Agent Supervisor David Lee with the Florida Department of Law Enforcement. Uh, also present in the room is Special Agent Johnny Baxler with the Florida Department of Law Enforcement and firefighter EMT Kevin O'Rourke. Firefighter EMT Kevin O'Rourke: We- Special Agent Supervisor David Lee: — you **** the truck. Birefiehtes EMT Kevin O'Rourke: _ I say we as a unit, uh, me and my partner Mike Brandy, so Rescue 38. Special Agent Supervisor David Lee: You and Mike Brandy basically do the medical treatment on ****? Firefighter EMT Kevin O'Rourke: We all do the med, uh, the entire, we run calls with both an engine and a rescue. Special Agent Supervisor David Lee: When, when you say place him on it — Firefighter EMT Kevin O'Rourke: _I place him, I, I put the, uh, stickers on him that check his — Special Agent Supervisor David Lee: Okay. Special Agent Supervisor David Lee: Flatline, which indicates no heartbeat whatsoever. And uh, the paramedic, Mike Brandy, he was responsible for making that call, correct? Special Agent Supervisor David Lee: T guess when you were placing the pads — Firefighter EMT Kevin O'Rourke: Yes. We had been really busy that night and it had been just pouring rain and everything so it was, you know, it was kind of a blurry scene, and at the time we didn't even have I. D.  on the, the guy. special Agent Supervisor David Lee: - And your treatment of him consisted of just cleaning up his wounds. Special Agent Supervisor David Lee: Now, when you cleaning up his wound did he ever make any statements to you or in your presence? Firefighter EMT Kevin O'Rourke: Stacy Livingston, uh, Tyler Roachfort, and we were, the entire, you know, Station 38 crew was there. Special Agent Supervisor David Lee: So as far as Mr.  Zimmerman's treatment, what specifically did you do? Special Agent Supervisor David Lee: Uh, when you say significant amount of blood, can you define that a little better? Firefighter EMT Kevin O'Rourke: _ It was I would say coverage of face and head, I mean, maybe 45 percent of him was covered in blood. I mean, he had a, he had a substantial amount of dried blood on his cheeks and on the back of his head. Special Agent Supervisor David Lee: Cheeks and the back of his head.\n"
     ]
    }
   ],
   "source": [
    "print(summary)"
   ]
  },
  {
   "cell_type": "code",
   "execution_count": null,
   "metadata": {},
   "outputs": [],
   "source": []
  },
  {
   "cell_type": "code",
   "execution_count": null,
   "metadata": {},
   "outputs": [],
   "source": []
  },
  {
   "cell_type": "code",
   "execution_count": null,
   "metadata": {},
   "outputs": [],
   "source": []
  },
  {
   "cell_type": "code",
   "execution_count": 100,
   "metadata": {},
   "outputs": [
    {
     "name": "stdout",
     "output_type": "stream",
     "text": [
      "results_Zimmerman Police Int.txt\n"
     ]
    }
   ],
   "source": [
    "import pandas as pd\n",
    "corpus = []\n",
    "\n",
    "with open(folder+txt_files[8],encoding='utf8') as f_input:\n",
    "    corpus.append(f_input.read())\n",
    "#print(corpus)\n",
    "print(txt_files[8]) "
   ]
  },
  {
   "cell_type": "code",
   "execution_count": 101,
   "metadata": {},
   "outputs": [],
   "source": [
    "lang = 'english'\n",
    "count = 10\n",
    "new_string = corpus[0].replace('.', '. ').strip()\n",
    "lsa = LsaSummarizer(Stemmer(lang))\n",
    "lsa.stop_words = get_stop_words(lang)\n",
    "parser = PlaintextParser.from_string(new_string, Tokenizer(lang))\n",
    "lsa_summary = lsa(parser.document, count)\n",
    "lsa_s = [str(sent) for sent in lsa_summary]\n",
    "summary = ' '.join(lsa_s)"
   ]
  },
  {
   "cell_type": "markdown",
   "metadata": {},
   "source": [
    "<h1 style=\"color:Tomato;\"><center>Summary of Zimmerman Police Interview</h1>\n"
   ]
  },
  {
   "cell_type": "markdown",
   "metadata": {},
   "source": [
    "![SegmentLocal](./img/6.gif \"segment\")"
   ]
  },
  {
   "cell_type": "code",
   "execution_count": 102,
   "metadata": {},
   "outputs": [
    {
     "name": "stdout",
     "output_type": "stream",
     "text": [
      "**** an interview room at the Sanford Police Department with George Michael Zimmerman in reference to an event that happened out at 2831 **** Circle. Sent Zenmeetoan: — the neighborhood has had a lot of crimes, um, my, my wife's, all our nei; rs get broken into and she got scared. George Zimmerman: Um, it was raining out and he was leisurely walking, taking his time, looking at all the houses. Um, the dispatcher, whoever answered the phone, asked me where they went and I said I wasn't sure because I lost visual of him when he went in between houses and, uh, he said, “Well, can you tell me what direction he went in,\" and I said, \"Not really. \" George Zimmerman: So, I was walking back through to where my car was and he jumped out from the bushes and he said, \"What the fuck's your problem, homey?\" Um, when he started doing that, I slid into the grass to try and get out from under him and so that he would stop hitting my head into the sidewalk and I'm still yelling for help. So, I just, uh, when I slid, my jacket and my shirt came up and when he said, \"You're gonna die tonight,\" I felt his hand go down on my side and I thought he was going for my firearm. Investigator Singleton: Does he fall to the side and he stays lying on the ground or does — George Zimmerman: I don't ****, I, my vision was blurry — So, I remember I, once I shot him, I holstered my firearm, and I got on top of him and I held him hands down 'cause he was still talking and he, and, uh, I said, \"Stay down. George Zimmerman: — where I lost sight of him at and when I walked back, that's when he came out of the darkness and I guess he was upset that I called the police so.\n"
     ]
    }
   ],
   "source": [
    "print(summary)"
   ]
  },
  {
   "cell_type": "code",
   "execution_count": null,
   "metadata": {},
   "outputs": [],
   "source": []
  },
  {
   "cell_type": "code",
   "execution_count": null,
   "metadata": {},
   "outputs": [],
   "source": []
  },
  {
   "cell_type": "code",
   "execution_count": 104,
   "metadata": {},
   "outputs": [
    {
     "name": "stdout",
     "output_type": "stream",
     "text": [
      "results_zimmotionselfserving.txt\n"
     ]
    }
   ],
   "source": [
    "import pandas as pd\n",
    "corpus = []\n",
    "\n",
    "with open(folder+txt_files[9],encoding='utf8') as f_input:\n",
    "    corpus.append(f_input.read())\n",
    "#print(corpus)\n",
    "print(txt_files[9]) "
   ]
  },
  {
   "cell_type": "code",
   "execution_count": 107,
   "metadata": {},
   "outputs": [],
   "source": [
    "lang = 'english'\n",
    "count = 20\n",
    "new_string = corpus[0].replace('.', '. ').strip()\n",
    "lsa = LsaSummarizer(Stemmer(lang))\n",
    "lsa.stop_words = get_stop_words(lang)\n",
    "parser = PlaintextParser.from_string(new_string, Tokenizer(lang))\n",
    "lsa_summary = lsa(parser.document, count)\n",
    "lsa_s = [str(sent) for sent in lsa_summary]\n",
    "summary = ' '.join(lsa_s)"
   ]
  },
  {
   "cell_type": "markdown",
   "metadata": {},
   "source": [
    "<h1 style=\"color:Tomato;\"><center>Summary of Zimmerman Self Serving</h1>"
   ]
  },
  {
   "cell_type": "code",
   "execution_count": 108,
   "metadata": {},
   "outputs": [
    {
     "name": "stdout",
     "output_type": "stream",
     "text": [
      "COMES NOW the Defendant, GEORGE ZIMMERMAN, by and through his undersigned counsel, and files this response to the state’s motion to exclude self-serving hearsay statements of defendant and states the following: On May 10, 2013 the state filed a “generic” motion to exclude self-serving hearsay statements of the defendant. The motion did not identify any particular statements but it appeared that the state intended to prevent the defense from offering any of Mr.  Zimmerman’s many recorded statements to law enforcement, verbal statements to co-workers and friends at some remote time from the event where he explained the circumstances surrounding the shooting of Trayvon Martin in self-defense. At the hearing on the state’s motion on May 28, 2013, the defense agreed that Mr. Zimmerman’s exculpatory statements, remote in time, would not be admissible absent proper evidentiary predicate. However, in its motion the state also said \"Moreover, the statements would not be admissible as part of the res gestae in the instant case or under any recognized hearsay exception. \" The Court was advised that the defense wanted an opportunity to address the res gestae statements prior to the commencement of the trial. As the Court is aware, res gestae type statements made soon after an event are admissible notwithstanding that they are hearsay. Witness 13 and his wife heard a commotion in the back of their townhome. Within seconds of the shooting, W13 approached Mr.  Zimmerman who was staggering, bleeding and breathing hard. The witness observed blood on Mr.  Zimmerman’s face and the back of his head consistent with someone having been injured in a fight. Within a minute or so, Sanford Police Officer Tim Smith arrived on foot at the location where Mr.  Zimmerman and W13 were standing”. Officer Smith spoke with Mr.  Zimmerman at the scene upon his arrival. Mr.  Zimmerman acknowledged being the person who fired the shot and that he had a firearm on him. WHEREFORE, Mr.  Zimmerman respectfully requests this Honorable Court to deny the state’s motion in limine as to the res gestae statements of Mr.  Zimmerman. Both pictures were obtained by law enforcement and are evidence in the case. * Mr.  Zimmerman had called the police several minutes before and asked that an officer respond to the Retreat at Twin Lakes community. Officer Smith was en route at the time of the shot. | HEREBY CERTIFY that a true and correct copy of the foregoing has been furnished by U. S.  Mail/email/hand delivery this 21 day of June, 2013 to Bernie de la Rionda, Assistant State Attorney, John Guy, Assistant State Attorney, Office of the State Attorney, 220 East Bay Street, Jacksonville, Florida 32202-3429, and Mark M.  O’ Mara, O’ Mara Law Group, 1416 E. Concord St. , Orlando, FL 32803.\n"
     ]
    }
   ],
   "source": [
    "print(summary)"
   ]
  },
  {
   "cell_type": "code",
   "execution_count": null,
   "metadata": {},
   "outputs": [],
   "source": []
  },
  {
   "cell_type": "code",
   "execution_count": null,
   "metadata": {},
   "outputs": [],
   "source": []
  },
  {
   "cell_type": "code",
   "execution_count": 109,
   "metadata": {},
   "outputs": [
    {
     "name": "stdout",
     "output_type": "stream",
     "text": [
      "results_zimopeningdayminutes.txt\n"
     ]
    }
   ],
   "source": [
    "import pandas as pd\n",
    "corpus = []\n",
    "\n",
    "with open(folder+txt_files[10],encoding='utf8') as f_input:\n",
    "    corpus.append(f_input.read())\n",
    "#print(corpus)\n",
    "print(txt_files[10]) "
   ]
  },
  {
   "cell_type": "code",
   "execution_count": 114,
   "metadata": {},
   "outputs": [],
   "source": [
    "lang = 'english'\n",
    "count = 6\n",
    "new_string = corpus[0].replace('.', '. ').strip()\n",
    "lsa = LsaSummarizer(Stemmer(lang))\n",
    "lsa.stop_words = get_stop_words(lang)\n",
    "parser = PlaintextParser.from_string(new_string, Tokenizer(lang))\n",
    "lsa_summary = lsa(parser.document, count)\n",
    "lsa_s = [str(sent) for sent in lsa_summary]\n",
    "summary = ' '.join(lsa_s)"
   ]
  },
  {
   "cell_type": "markdown",
   "metadata": {},
   "source": [
    "<h1 style=\"color:Tomato;\"><center>Summary of Opening Day Minutes</h1>"
   ]
  },
  {
   "cell_type": "code",
   "execution_count": 115,
   "metadata": {},
   "outputs": [
    {
     "name": "stdout",
     "output_type": "stream",
     "text": [
      "Page: 1 06/24/2013 5:34 PM Case # 2012CF001083A STATE OF FLORIDA vs ZIMMERMAN, GEORGE OBTS # 5901121590 Agency: SOSC CD: 5D Log: 9A-123Tape: Circuit Judge: DEBRA S NELSON Deputy Clerk: SUSAN WINSLOW State Attorney: B. TRUETT Public Defender: Deputy Sheriff/Bailiff: BOBBY JARVIS Court Reporter: SHELLY COFFEY Charge(s): Description Citation Bond Bondsman Trial continued to 06/25/2013 at 09:00 AM in Courtroom 5D, at the Criminal Justice Building, 101 Bush Blvd, Sanford, FL 32773 before Judge DEBRA S NELSON If you are a person with a disability who needs any accommodation in order to participate in this proceeding, you are entitled, at no cost to you, to the provision of certain assistance. Please contact the ADA Coordinator, Court Administration, 301 North Park Avenue, Sanford, FL 32771, telephone number (407) 665-4227 at least, 7 days before your scheduled court appearance, or immediately upon receiving this notification if the time before the scheduled appearance is less than 7 days; if you are hearing or voice impaired, call 711.\n"
     ]
    }
   ],
   "source": [
    "print(summary)"
   ]
  },
  {
   "cell_type": "code",
   "execution_count": null,
   "metadata": {},
   "outputs": [],
   "source": []
  },
  {
   "cell_type": "code",
   "execution_count": null,
   "metadata": {},
   "outputs": [],
   "source": []
  },
  {
   "cell_type": "code",
   "execution_count": 116,
   "metadata": {},
   "outputs": [
    {
     "name": "stdout",
     "output_type": "stream",
     "text": [
      "results_zimprobablecausedoc.txt\n"
     ]
    }
   ],
   "source": [
    "import pandas as pd\n",
    "corpus = []\n",
    "\n",
    "with open(folder+txt_files[11],encoding='utf8') as f_input:\n",
    "    corpus.append(f_input.read())\n",
    "#print(corpus)\n",
    "print(txt_files[11]) "
   ]
  },
  {
   "cell_type": "code",
   "execution_count": 119,
   "metadata": {},
   "outputs": [],
   "source": [
    "lang = 'english'\n",
    "count = 10\n",
    "new_string = corpus[0].replace('.', '. ').strip()\n",
    "lsa = LsaSummarizer(Stemmer(lang))\n",
    "lsa.stop_words = get_stop_words(lang)\n",
    "parser = PlaintextParser.from_string(new_string, Tokenizer(lang))\n",
    "lsa_summary = lsa(parser.document, count)\n",
    "lsa_s = [str(sent) for sent in lsa_summary]\n",
    "summary = ' '.join(lsa_s)"
   ]
  },
  {
   "cell_type": "markdown",
   "metadata": {},
   "source": [
    "<h1 style=\"color:Tomato;\"><center>Summary of Probable Cause</h1>"
   ]
  },
  {
   "cell_type": "code",
   "execution_count": 120,
   "metadata": {},
   "outputs": [
    {
     "name": "stdout",
     "output_type": "stream",
     "text": [
      "Before me, personally appeared T. C.  O’Steen and K. D.  Gilbreath, who after being duly sworn; deposes and says: Your affiants, Investigators T. C.  O’Steen, and Dale Gilbreath are members of the State Attorney Office — Fourth Judicial Circuit, appointed in this case by State Attorney Angela B.  Corey, who was assigned this case under Executive Order of the Governor 12-72. Your Affiants, along with other law enforcement officials have taken sworn statements from witnesses, spoken with law enforcement officers who have provided sworn testimony in reports, reviewed other reports, recorded statements, phone records, recorded calls to police, photographs, videos, and other documents in detailing the following: walked to a nearby 7-11 store where he purchased a can of iced tea and a bag of Zimmerman felt Martin did not belong in the gated community and called the police. During the recorded call Zimmerman made reference to people he felt had committed and gotten away with break-ins in his neighborhood. The witness advised that Martin was scared because he was being followed through the complex by an unknown male and didn’t know why. Martin attempted to run home but was followed by Zimmerman who didn’t want the person he falsely assumed was going to commit a crime to get away before the police arrived. Zimmerman disregarded the police dispatcher and continued to follow Martin who was trying to return to his home. Assistant Medical Examiner Dr.  Bao performed an autopsy and determined that Martin died from the gunshot wound.\n"
     ]
    }
   ],
   "source": [
    "print(summary)"
   ]
  },
  {
   "cell_type": "code",
   "execution_count": null,
   "metadata": {},
   "outputs": [],
   "source": []
  },
  {
   "cell_type": "code",
   "execution_count": null,
   "metadata": {},
   "outputs": [],
   "source": []
  },
  {
   "cell_type": "code",
   "execution_count": null,
   "metadata": {},
   "outputs": [],
   "source": []
  },
  {
   "cell_type": "markdown",
   "metadata": {},
   "source": [
    "![SegmentLocal](./img/10.gif \"segment\")"
   ]
  },
  {
   "cell_type": "code",
   "execution_count": null,
   "metadata": {},
   "outputs": [],
   "source": []
  }
 ],
 "metadata": {
  "kernelspec": {
   "display_name": "Python 3",
   "language": "python",
   "name": "python3"
  },
  "language_info": {
   "codemirror_mode": {
    "name": "ipython",
    "version": 3
   },
   "file_extension": ".py",
   "mimetype": "text/x-python",
   "name": "python",
   "nbconvert_exporter": "python",
   "pygments_lexer": "ipython3",
   "version": "3.7.6"
  }
 },
 "nbformat": 4,
 "nbformat_minor": 4
}
